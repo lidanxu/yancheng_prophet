{
 "cells": [
  {
   "cell_type": "code",
   "execution_count": 1,
   "metadata": {},
   "outputs": [],
   "source": [
    "import pandas as pd\n",
    "import numpy as np\n",
    "from fbprophet import Prophet\n",
    "import pickle as pkl"
   ]
  },
  {
   "cell_type": "markdown",
   "metadata": {},
   "source": [
    "### 处理缺失值"
   ]
  },
  {
   "cell_type": "code",
   "execution_count": 2,
   "metadata": {},
   "outputs": [],
   "source": [
    "#填充缺失值,考虑首尾缺失的可能\n",
    "def fill_missing(df,day=1192):\n",
    "    '''\n",
    "    存在每个brand开头缺失和结尾缺失的情况\n",
    "    '''\n",
    "    modi_df = pd.DataFrame(columns=['date', 'day_of_week', 'cnt'], dtype=int)\n",
    "    last_day_of_week = 0\n",
    "    for index, row in df.iterrows():\n",
    "        now_day_of_week = row['day_of_week']\n",
    "        # 若 day_of_week 当前天减上一天不是1 或 -6，说明有跳跃\n",
    "        while (last_day_of_week != 0) and (now_day_of_week - last_day_of_week != 1) and (now_day_of_week - last_day_of_week != -6):\n",
    "            if last_day_of_week == 7:\n",
    "                last_day_of_week = 1\n",
    "            else:\n",
    "                last_day_of_week += 1\n",
    "            modi_df = modi_df.append({'day_of_week': last_day_of_week, 'cnt': 0}, ignore_index=True) \n",
    "        modi_df = modi_df.append(row, ignore_index=True)\n",
    "        last_day_of_week = now_day_of_week\n",
    "    df_len = modi_df.shape[0]\n",
    "    if df_len != day:\n",
    "        #print df_len\n",
    "        #开头部分有缺失\n",
    "        if modi_df.iloc[0]['day_of_week'] != 3:\n",
    "            now_day_of_week = modi_df.iloc[0]['day_of_week']\n",
    "            last_day_of_week = 3\n",
    "            above = pd.DataFrame([[last_day_of_week,0,np.nan]],columns=['day_of_week','cnt','date'])\n",
    "            last_day_of_week += 1\n",
    "            while last_day_of_week != now_day_of_week:\n",
    "                above = above.append({'day_of_week': last_day_of_week, 'cnt': 0}, ignore_index=True)\n",
    "                if last_day_of_week == 7:\n",
    "                    last_day_of_week = 1\n",
    "                else:\n",
    "                    last_day_of_week += 1\n",
    "            modi_df = above.append(modi_df)\n",
    "        df_len = modi_df.shape[0]     \n",
    "        assert (modi_df.iloc[0]['day_of_week'] == 3)\n",
    "        #结尾缺失\n",
    "        #if (day- df_len)%7 == 0 or modi_df.iloc[0]['day_of_week'] == 3:\n",
    "        if df_len != day:\n",
    "            day_num = day-df_len\n",
    "            #print 'day_num:',day_num\n",
    "            #填充滿\n",
    "            last_day_of_week = modi_df.iloc[-1]['day_of_week']\n",
    "            while (day_num>0):\n",
    "                if last_day_of_week == 7:\n",
    "                    last_day_of_week =1\n",
    "                else:\n",
    "                    last_day_of_week += 1\n",
    "                day_num -= 1\n",
    "                modi_df = modi_df.append({'day_of_week': last_day_of_week, 'cnt': 0}, ignore_index=True)\n",
    "                #print 'modi_df.shape:',modi_df.shape         \n",
    "    return modi_df"
   ]
  },
  {
   "cell_type": "code",
   "execution_count": 3,
   "metadata": {},
   "outputs": [],
   "source": [
    "#处理缺失值\n",
    "def fill_missing2(df):\n",
    "    modi_df = pd.DataFrame(columns=['date', 'day_of_week', 'cnt'], dtype=int)\n",
    "    last_day_of_week = 0\n",
    "    for index, row in df.iterrows():\n",
    "        now_day_of_week = row['day_of_week']\n",
    "        # 若 day_of_week 当前天减上一天不是1 或 -6，说明有跳跃\n",
    "        while (last_day_of_week != 0) and (now_day_of_week - last_day_of_week != 1) and (now_day_of_week - last_day_of_week != -6):\n",
    "            if last_day_of_week == 7:\n",
    "                last_day_of_week = 1\n",
    "            else:\n",
    "                last_day_of_week += 1\n",
    "            modi_df = modi_df.append({'day_of_week': last_day_of_week, 'cnt': 0}, ignore_index=True)\n",
    "        modi_df = modi_df.append(row, ignore_index=True)\n",
    "        last_day_of_week = now_day_of_week\n",
    "    return modi_df"
   ]
  },
  {
   "cell_type": "markdown",
   "metadata": {},
   "source": [
    "### 构建预测模型"
   ]
  },
  {
   "cell_type": "code",
   "execution_count": 4,
   "metadata": {},
   "outputs": [
    {
     "name": "stdout",
     "output_type": "stream",
     "text": [
      "(601, 3)\n"
     ]
    }
   ],
   "source": [
    " #确定预测集大小\n",
    "test_A = pd.read_csv('./data/test_A_20171225.txt',sep='\\t')\n",
    "test_B = pd.read_csv('./data/test_B_20171225.txt',sep='\\t')\n",
    "all_test = pd.concat([test_A,test_B])\n",
    "modi_test_A = fill_missing2(all_test)\n",
    "modi_test_A.cnt = pd.to_numeric(modi_test_A.cnt)\n",
    "print modi_test_A.shape\n",
    "modi_test_A['ds'] = pd.date_range(start = '4/7/2016', periods=601)"
   ]
  },
  {
   "cell_type": "code",
   "execution_count": 5,
   "metadata": {},
   "outputs": [],
   "source": [
    "#针对每个品牌分别使用prophet建模并预测最后合并预测结果\n",
    "def run_based_brand(brand,d):\n",
    "    #brand:品牌\n",
    "    #d:brand对应的数据\n",
    "    train = d\n",
    "    new_df = train.drop(['day_of_week', 'brand'],axis=1).groupby('date').sum()\n",
    "    new_df['date'] = new_df.index\n",
    "    new_df = pd.merge(new_df, train[['date','day_of_week']].drop_duplicates(), how='left', on='date')\n",
    "    #print new_df.shape\n",
    "    #new_df.to_csv('./data/train_group.txt', sep='\\t')\n",
    "    #填充缺失值\n",
    "    modi_df = fill_missing(new_df)\n",
    "    #print '填充缺失值：',modi_df.shape\n",
    "    # 改变 cnt 列的值属性为数值型\n",
    "    modi_df.cnt = pd.to_numeric(modi_df.cnt)\n",
    "    \n",
    "    #均值按星期填充\n",
    "    for i in range(1, 8):\n",
    "        # 对每个 day_of_week 依次填充\n",
    "        day_of_week_mean = int(new_df[new_df.day_of_week == i]['cnt'].mean())\n",
    "        modi_df.loc[modi_df.day_of_week == i, 'cnt']= modi_df[modi_df.day_of_week == i].cnt.mask(modi_df.cnt == 0, day_of_week_mean)\n",
    "    #print '按星期均值填充：',modi_df.shape \n",
    "    \n",
    "    #为现有的dataframe增加ds\n",
    "    modi_df['ds'] = pd.date_range(start = '1/2/2013', periods=1192)\n",
    "    prophet_train = modi_df.loc[:,['ds', 'cnt']]\n",
    "    prophet_train.rename(columns = {'cnt':'y'}, inplace = True)\n",
    "    \n",
    "    #导入假期数据\n",
    "    with open('./data/holidays.pkl', 'rb') as rf:\n",
    "        holidays = pkl.load(rf)\n",
    "        \n",
    "    #训练模型\n",
    "    m = Prophet(holidays = holidays)\n",
    "    m.fit(prophet_train)\n",
    "   \n",
    "    #预测\n",
    "    future = pd.DataFrame({'ds':pd.date_range(start='4/8/2016',periods=600)})\n",
    "    forecast = m.predict(future)\n",
    "    test_A_yhat = forecast.loc[:, ['ds', 'yhat']]\n",
    "    test_A_yhat = test_A_yhat.merge(modi_test_A, on=['ds'])\n",
    "    real_pre_yhat_A = test_A_yhat[test_A_yhat.date.notnull()].drop(['day_of_week', 'cnt', 'ds'],axis=1)\n",
    "    print real_pre_yhat_A.shape\n",
    "    real_pre_yhat_A[['yhat', 'date']] = real_pre_yhat_A[['yhat', 'date']].astype(int)\n",
    "    return real_pre_yhat_A"
   ]
  },
  {
   "cell_type": "code",
   "execution_count": 6,
   "metadata": {},
   "outputs": [
    {
     "name": "stderr",
     "output_type": "stream",
     "text": [
      "INFO:fbprophet.forecaster:Disabling daily seasonality. Run prophet with daily_seasonality=True to override this.\n"
     ]
    },
    {
     "name": "stdout",
     "output_type": "stream",
     "text": [
      "(547, 2)\n"
     ]
    },
    {
     "name": "stderr",
     "output_type": "stream",
     "text": [
      "INFO:fbprophet.forecaster:Disabling daily seasonality. Run prophet with daily_seasonality=True to override this.\n"
     ]
    },
    {
     "name": "stdout",
     "output_type": "stream",
     "text": [
      "(547, 2)\n"
     ]
    },
    {
     "name": "stderr",
     "output_type": "stream",
     "text": [
      "INFO:fbprophet.forecaster:Disabling daily seasonality. Run prophet with daily_seasonality=True to override this.\n"
     ]
    },
    {
     "name": "stdout",
     "output_type": "stream",
     "text": [
      "(547, 2)\n"
     ]
    },
    {
     "name": "stderr",
     "output_type": "stream",
     "text": [
      "INFO:fbprophet.forecaster:Disabling daily seasonality. Run prophet with daily_seasonality=True to override this.\n"
     ]
    },
    {
     "name": "stdout",
     "output_type": "stream",
     "text": [
      "(547, 2)\n"
     ]
    },
    {
     "name": "stderr",
     "output_type": "stream",
     "text": [
      "INFO:fbprophet.forecaster:Disabling daily seasonality. Run prophet with daily_seasonality=True to override this.\n"
     ]
    },
    {
     "name": "stdout",
     "output_type": "stream",
     "text": [
      "(547, 2)\n"
     ]
    }
   ],
   "source": [
    "real_pre_list = []\n",
    "df = pd.read_csv('./data/train_20171215.txt',sep='\\t')\n",
    "df_group = df.groupby('brand')\n",
    "for num,d in df_group:\n",
    "    real_pre_yhat = run_based_brand(num,d)\n",
    "    real_pre_list.append(real_pre_yhat)\n"
   ]
  },
  {
   "cell_type": "code",
   "execution_count": 7,
   "metadata": {},
   "outputs": [],
   "source": [
    "result = pd.DataFrame(columns=['date','yhat'])\n",
    "result['date'] = real_pre_list[0].date\n",
    "result['yhat'] = sum([x.yhat for x in real_pre_list])"
   ]
  },
  {
   "cell_type": "markdown",
   "metadata": {},
   "source": [
    "### 存储预测结果"
   ]
  },
  {
   "cell_type": "code",
   "execution_count": 8,
   "metadata": {},
   "outputs": [],
   "source": [
    "result.loc[:,['date','yhat']].to_csv('./data/final_test_B_result.txt',sep='\\t',index=False)"
   ]
  }
 ],
 "metadata": {
  "kernelspec": {
   "display_name": "Python 2",
   "language": "python",
   "name": "python2"
  },
  "language_info": {
   "codemirror_mode": {
    "name": "ipython",
    "version": 2
   },
   "file_extension": ".py",
   "mimetype": "text/x-python",
   "name": "python",
   "nbconvert_exporter": "python",
   "pygments_lexer": "ipython2",
   "version": "2.7.6"
  }
 },
 "nbformat": 4,
 "nbformat_minor": 2
}
